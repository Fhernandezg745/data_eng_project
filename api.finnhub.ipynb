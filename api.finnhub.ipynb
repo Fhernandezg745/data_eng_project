{
 "cells": [
  {
   "cell_type": "code",
   "execution_count": null,
   "metadata": {},
   "outputs": [],
   "source": [
    "import pandas as pd\n",
    "import requests\n",
    "import json"
   ]
  },
  {
   "cell_type": "code",
   "execution_count": 1,
   "metadata": {},
   "outputs": [
    {
     "name": "stdout",
     "output_type": "stream",
     "text": [
      "Collecting finnhub-python\n",
      "  Downloading finnhub_python-2.4.18-py3-none-any.whl (11 kB)\n",
      "Requirement already satisfied: requests>=2.22.0 in /Library/Frameworks/Python.framework/Versions/3.10/lib/python3.10/site-packages (from finnhub-python) (2.27.1)\n",
      "Requirement already satisfied: charset-normalizer~=2.0.0 in /Library/Frameworks/Python.framework/Versions/3.10/lib/python3.10/site-packages (from requests>=2.22.0->finnhub-python) (2.0.11)\n",
      "Requirement already satisfied: idna<4,>=2.5 in /Library/Frameworks/Python.framework/Versions/3.10/lib/python3.10/site-packages (from requests>=2.22.0->finnhub-python) (3.3)\n",
      "Requirement already satisfied: certifi>=2017.4.17 in /Library/Frameworks/Python.framework/Versions/3.10/lib/python3.10/site-packages (from requests>=2.22.0->finnhub-python) (2021.10.8)\n",
      "Requirement already satisfied: urllib3<1.27,>=1.21.1 in /Library/Frameworks/Python.framework/Versions/3.10/lib/python3.10/site-packages (from requests>=2.22.0->finnhub-python) (1.26.8)\n",
      "Installing collected packages: finnhub-python\n",
      "Successfully installed finnhub-python-2.4.18\n",
      "\u001b[33mWARNING: You are using pip version 21.2.4; however, version 23.2 is available.\n",
      "You should consider upgrading via the '/usr/local/bin/python3 -m pip install --upgrade pip' command.\u001b[0m\n",
      "Note: you may need to restart the kernel to use updated packages.\n"
     ]
    }
   ],
   "source": [
    "pip install finnhub-python"
   ]
  },
  {
   "cell_type": "code",
   "execution_count": 2,
   "metadata": {},
   "outputs": [],
   "source": [
    "#Finnhub api configuration\n",
    "base_url = 'https://finnhub.io/api/v1/stock/exchange'\n",
    "token = \"c7m8i4aad3id8p04d150\""
   ]
  },
  {
   "cell_type": "code",
   "execution_count": 4,
   "metadata": {},
   "outputs": [],
   "source": [
    "import finnhub\n",
    "finnhub_client = finnhub.Client(api_key=token)"
   ]
  },
  {
   "cell_type": "code",
   "execution_count": 5,
   "metadata": {},
   "outputs": [
    {
     "name": "stdout",
     "output_type": "stream",
     "text": [
      "{'c': [80.4625, 80.835, 81.28, 80.58, 82.875, 83.365, 85.9975, 88.21, 83.975], 'h': [80.5875, 80.86, 81.55, 81.405, 82.9375, 83.4, 86.4025, 88.6925, 87.765], 'l': [79.3025, 79.7325, 80.575, 80.195, 80.8075, 81.83, 83.0025, 86.5225, 83.87], 'o': [79.4375, 80.18625, 81.165, 81.0975, 80.8375, 82.5625, 83.035, 86.975, 87.3275], 's': 'ok', 't': [1590969600, 1591056000, 1591142400, 1591228800, 1591315200, 1591574400, 1591660800, 1591747200, 1591833600], 'v': [81018612, 87642816, 104491216, 87560364, 137250200, 95654536, 147712364, 166651752, 201662452]}\n",
      "         c        h        l         o   s           t          v\n",
      "0  80.4625  80.5875  79.3025  79.43750  ok  1590969600   81018612\n",
      "1  80.8350  80.8600  79.7325  80.18625  ok  1591056000   87642816\n",
      "2  81.2800  81.5500  80.5750  81.16500  ok  1591142400  104491216\n",
      "3  80.5800  81.4050  80.1950  81.09750  ok  1591228800   87560364\n",
      "4  82.8750  82.9375  80.8075  80.83750  ok  1591315200  137250200\n",
      "5  83.3650  83.4000  81.8300  82.56250  ok  1591574400   95654536\n",
      "6  85.9975  86.4025  83.0025  83.03500  ok  1591660800  147712364\n",
      "7  88.2100  88.6925  86.5225  86.97500  ok  1591747200  166651752\n",
      "8  83.9750  87.7650  83.8700  87.32750  ok  1591833600  201662452\n"
     ]
    },
    {
     "ename": "FinnhubAPIException",
     "evalue": "FinnhubAPIException(status_code: 403): You don't have access to this resource.",
     "output_type": "error",
     "traceback": [
      "\u001b[0;31m---------------------------------------------------------------------------\u001b[0m",
      "\u001b[0;31mFinnhubAPIException\u001b[0m                       Traceback (most recent call last)",
      "Cell \u001b[0;32mIn[5], line 10\u001b[0m\n\u001b[1;32m      7\u001b[0m \u001b[39mprint\u001b[39m(pd\u001b[39m.\u001b[39mDataFrame(res))\n\u001b[1;32m      9\u001b[0m \u001b[39m# Aggregate Indicators\u001b[39;00m\n\u001b[0;32m---> 10\u001b[0m \u001b[39mprint\u001b[39m(finnhub_client\u001b[39m.\u001b[39;49maggregate_indicator(\u001b[39m'\u001b[39;49m\u001b[39mAAPL\u001b[39;49m\u001b[39m'\u001b[39;49m, \u001b[39m'\u001b[39;49m\u001b[39mD\u001b[39;49m\u001b[39m'\u001b[39;49m))\n\u001b[1;32m     12\u001b[0m \u001b[39m# Basic financials\u001b[39;00m\n\u001b[1;32m     13\u001b[0m \u001b[39mprint\u001b[39m(finnhub_client\u001b[39m.\u001b[39mcompany_basic_financials(\u001b[39m'\u001b[39m\u001b[39mAAPL\u001b[39m\u001b[39m'\u001b[39m, \u001b[39m'\u001b[39m\u001b[39mall\u001b[39m\u001b[39m'\u001b[39m))\n",
      "File \u001b[0;32m/Library/Frameworks/Python.framework/Versions/3.10/lib/python3.10/site-packages/finnhub/client.py:91\u001b[0m, in \u001b[0;36mClient.aggregate_indicator\u001b[0;34m(self, symbol, resolution)\u001b[0m\n\u001b[1;32m     90\u001b[0m \u001b[39mdef\u001b[39;00m \u001b[39maggregate_indicator\u001b[39m(\u001b[39mself\u001b[39m, symbol, resolution):\n\u001b[0;32m---> 91\u001b[0m     \u001b[39mreturn\u001b[39;00m \u001b[39mself\u001b[39;49m\u001b[39m.\u001b[39;49m_get(\u001b[39m\"\u001b[39;49m\u001b[39m/scan/technical-indicator\u001b[39;49m\u001b[39m\"\u001b[39;49m, params\u001b[39m=\u001b[39;49m{\n\u001b[1;32m     92\u001b[0m         \u001b[39m\"\u001b[39;49m\u001b[39msymbol\u001b[39;49m\u001b[39m\"\u001b[39;49m: symbol,\n\u001b[1;32m     93\u001b[0m         \u001b[39m\"\u001b[39;49m\u001b[39mresolution\u001b[39;49m\u001b[39m\"\u001b[39;49m: resolution,\n\u001b[1;32m     94\u001b[0m     })\n",
      "File \u001b[0;32m/Library/Frameworks/Python.framework/Versions/3.10/lib/python3.10/site-packages/finnhub/client.py:71\u001b[0m, in \u001b[0;36mClient._get\u001b[0;34m(self, path, **kwargs)\u001b[0m\n\u001b[1;32m     70\u001b[0m \u001b[39mdef\u001b[39;00m \u001b[39m_get\u001b[39m(\u001b[39mself\u001b[39m, path, \u001b[39m*\u001b[39m\u001b[39m*\u001b[39mkwargs):\n\u001b[0;32m---> 71\u001b[0m     \u001b[39mreturn\u001b[39;00m \u001b[39mself\u001b[39;49m\u001b[39m.\u001b[39;49m_request(\u001b[39m\"\u001b[39;49m\u001b[39mget\u001b[39;49m\u001b[39m\"\u001b[39;49m, path, \u001b[39m*\u001b[39;49m\u001b[39m*\u001b[39;49mkwargs)\n",
      "File \u001b[0;32m/Library/Frameworks/Python.framework/Versions/3.10/lib/python3.10/site-packages/finnhub/client.py:41\u001b[0m, in \u001b[0;36mClient._request\u001b[0;34m(self, method, path, **kwargs)\u001b[0m\n\u001b[1;32m     38\u001b[0m kwargs[\u001b[39m\"\u001b[39m\u001b[39mparams\u001b[39m\u001b[39m\"\u001b[39m] \u001b[39m=\u001b[39m \u001b[39mself\u001b[39m\u001b[39m.\u001b[39m_format_params(kwargs\u001b[39m.\u001b[39mget(\u001b[39m\"\u001b[39m\u001b[39mparams\u001b[39m\u001b[39m\"\u001b[39m, {}))\n\u001b[1;32m     40\u001b[0m response \u001b[39m=\u001b[39m \u001b[39mgetattr\u001b[39m(\u001b[39mself\u001b[39m\u001b[39m.\u001b[39m_session, method)(uri, \u001b[39m*\u001b[39m\u001b[39m*\u001b[39mkwargs)\n\u001b[0;32m---> 41\u001b[0m \u001b[39mreturn\u001b[39;00m \u001b[39mself\u001b[39;49m\u001b[39m.\u001b[39;49m_handle_response(response)\n",
      "File \u001b[0;32m/Library/Frameworks/Python.framework/Versions/3.10/lib/python3.10/site-packages/finnhub/client.py:46\u001b[0m, in \u001b[0;36mClient._handle_response\u001b[0;34m(response)\u001b[0m\n\u001b[1;32m     43\u001b[0m \u001b[39m@staticmethod\u001b[39m\n\u001b[1;32m     44\u001b[0m \u001b[39mdef\u001b[39;00m \u001b[39m_handle_response\u001b[39m(response):\n\u001b[1;32m     45\u001b[0m     \u001b[39mif\u001b[39;00m \u001b[39mnot\u001b[39;00m response\u001b[39m.\u001b[39mok:\n\u001b[0;32m---> 46\u001b[0m         \u001b[39mraise\u001b[39;00m FinnhubAPIException(response)\n\u001b[1;32m     48\u001b[0m     \u001b[39mtry\u001b[39;00m:\n\u001b[1;32m     49\u001b[0m         content_type \u001b[39m=\u001b[39m response\u001b[39m.\u001b[39mheaders\u001b[39m.\u001b[39mget(\u001b[39m'\u001b[39m\u001b[39mContent-Type\u001b[39m\u001b[39m'\u001b[39m, \u001b[39m'\u001b[39m\u001b[39m'\u001b[39m)\n",
      "\u001b[0;31mFinnhubAPIException\u001b[0m: FinnhubAPIException(status_code: 403): You don't have access to this resource."
     ]
    }
   ],
   "source": [
    "# Stock candles\n",
    "res = finnhub_client.stock_candles('AAPL', 'D', 1590988249, 1591852249)\n",
    "print(res)\n",
    "\n",
    "#Convert to Pandas Dataframe\n",
    "import pandas as pd\n",
    "print(pd.DataFrame(res))\n",
    "\n",
    "# Aggregate Indicators\n",
    "print(finnhub_client.aggregate_indicator('AAPL', 'D'))\n",
    "\n",
    "# Basic financials\n",
    "print(finnhub_client.company_basic_financials('AAPL', 'all'))\n",
    "\n",
    "# Earnings surprises\n",
    "print(finnhub_client.company_earnings('TSLA', limit=5))\n"
   ]
  },
  {
   "cell_type": "code",
   "execution_count": null,
   "metadata": {},
   "outputs": [],
   "source": []
  }
 ],
 "metadata": {
  "kernelspec": {
   "display_name": "Python 3",
   "language": "python",
   "name": "python3"
  },
  "language_info": {
   "codemirror_mode": {
    "name": "ipython",
    "version": 3
   },
   "file_extension": ".py",
   "mimetype": "text/x-python",
   "name": "python",
   "nbconvert_exporter": "python",
   "pygments_lexer": "ipython3",
   "version": "3.10.1"
  },
  "orig_nbformat": 4
 },
 "nbformat": 4,
 "nbformat_minor": 2
}
