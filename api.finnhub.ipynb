{
 "cells": [
  {
   "cell_type": "code",
   "execution_count": 5,
   "metadata": {},
   "outputs": [],
   "source": [
    "import pandas as pd\n",
    "import requests\n",
    "import json"
   ]
  },
  {
   "cell_type": "code",
   "execution_count": 6,
   "metadata": {},
   "outputs": [],
   "source": [
    "#Finnhub api configuration\n",
    "base_url = 'https://finnhub.io/api/v1/stock/exchange'\n",
    "token = \"c7m8i4aad3id8p04d150\""
   ]
  },
  {
   "cell_type": "code",
   "execution_count": 7,
   "metadata": {},
   "outputs": [
    {
     "name": "stdout",
     "output_type": "stream",
     "text": [
      "Collecting pandas\n",
      "  Downloading pandas-2.0.3-cp310-cp310-win_amd64.whl (10.7 MB)\n",
      "     ---------------------------------------- 0.0/10.7 MB ? eta -:--:--\n",
      "     - -------------------------------------- 0.4/10.7 MB 11.6 MB/s eta 0:00:01\n",
      "     -- ------------------------------------- 0.6/10.7 MB 7.7 MB/s eta 0:00:02\n",
      "     -- ------------------------------------- 0.7/10.7 MB 5.5 MB/s eta 0:00:02\n",
      "     -- ------------------------------------- 0.7/10.7 MB 4.2 MB/s eta 0:00:03\n",
      "     --- ------------------------------------ 0.8/10.7 MB 3.7 MB/s eta 0:00:03\n",
      "     --- ------------------------------------ 1.0/10.7 MB 3.8 MB/s eta 0:00:03\n",
      "     ----- ---------------------------------- 1.3/10.7 MB 4.3 MB/s eta 0:00:03\n",
      "     ------ --------------------------------- 1.7/10.7 MB 4.8 MB/s eta 0:00:02\n",
      "     ------- -------------------------------- 1.9/10.7 MB 4.8 MB/s eta 0:00:02\n",
      "     -------- ------------------------------- 2.2/10.7 MB 4.9 MB/s eta 0:00:02\n",
      "     --------- ------------------------------ 2.5/10.7 MB 5.1 MB/s eta 0:00:02\n",
      "     ---------- ----------------------------- 2.8/10.7 MB 5.1 MB/s eta 0:00:02\n",
      "     ----------- ---------------------------- 3.1/10.7 MB 5.1 MB/s eta 0:00:02\n",
      "     ------------ --------------------------- 3.3/10.7 MB 5.1 MB/s eta 0:00:02\n",
      "     ------------- -------------------------- 3.5/10.7 MB 5.1 MB/s eta 0:00:02\n",
      "     ------------- -------------------------- 3.7/10.7 MB 5.0 MB/s eta 0:00:02\n",
      "     -------------- ------------------------- 3.9/10.7 MB 4.9 MB/s eta 0:00:02\n",
      "     -------------- ------------------------- 3.9/10.7 MB 4.7 MB/s eta 0:00:02\n",
      "     --------------- ------------------------ 4.0/10.7 MB 4.6 MB/s eta 0:00:02\n",
      "     --------------- ------------------------ 4.1/10.7 MB 4.4 MB/s eta 0:00:02\n",
      "     --------------- ------------------------ 4.2/10.7 MB 4.4 MB/s eta 0:00:02\n",
      "     ---------------- ----------------------- 4.4/10.7 MB 4.3 MB/s eta 0:00:02\n",
      "     ----------------- ---------------------- 4.6/10.7 MB 4.3 MB/s eta 0:00:02\n",
      "     ------------------ --------------------- 4.8/10.7 MB 4.3 MB/s eta 0:00:02\n",
      "     ------------------- -------------------- 5.2/10.7 MB 4.5 MB/s eta 0:00:02\n",
      "     -------------------- ------------------- 5.5/10.7 MB 4.5 MB/s eta 0:00:02\n",
      "     ---------------------- ----------------- 5.9/10.7 MB 4.7 MB/s eta 0:00:02\n",
      "     ----------------------- ---------------- 6.3/10.7 MB 4.9 MB/s eta 0:00:01\n",
      "     ------------------------ --------------- 6.6/10.7 MB 4.9 MB/s eta 0:00:01\n",
      "     ------------------------- -------------- 6.9/10.7 MB 4.9 MB/s eta 0:00:01\n",
      "     -------------------------- ------------- 7.0/10.7 MB 4.9 MB/s eta 0:00:01\n",
      "     -------------------------- ------------- 7.1/10.7 MB 4.8 MB/s eta 0:00:01\n",
      "     --------------------------- ------------ 7.3/10.7 MB 4.8 MB/s eta 0:00:01\n",
      "     ---------------------------- ----------- 7.6/10.7 MB 4.8 MB/s eta 0:00:01\n",
      "     ----------------------------- ---------- 7.8/10.7 MB 4.8 MB/s eta 0:00:01\n",
      "     ----------------------------- ---------- 8.0/10.7 MB 4.8 MB/s eta 0:00:01\n",
      "     ------------------------------ --------- 8.2/10.7 MB 4.8 MB/s eta 0:00:01\n",
      "     ------------------------------- -------- 8.4/10.7 MB 4.7 MB/s eta 0:00:01\n",
      "     -------------------------------- ------- 8.6/10.7 MB 4.8 MB/s eta 0:00:01\n",
      "     --------------------------------- ------ 8.9/10.7 MB 4.8 MB/s eta 0:00:01\n",
      "     ---------------------------------- ----- 9.2/10.7 MB 4.8 MB/s eta 0:00:01\n",
      "     ----------------------------------- ---- 9.5/10.7 MB 4.9 MB/s eta 0:00:01\n",
      "     ------------------------------------ --- 9.7/10.7 MB 4.8 MB/s eta 0:00:01\n",
      "     ------------------------------------- -- 9.9/10.7 MB 4.8 MB/s eta 0:00:01\n",
      "     -------------------------------------- - 10.1/10.7 MB 4.8 MB/s eta 0:00:01\n",
      "     ---------------------------------------  10.5/10.7 MB 4.8 MB/s eta 0:00:01\n",
      "     ---------------------------------------  10.7/10.7 MB 4.9 MB/s eta 0:00:01\n",
      "     ---------------------------------------  10.7/10.7 MB 4.9 MB/s eta 0:00:01\n",
      "     ---------------------------------------  10.7/10.7 MB 4.9 MB/s eta 0:00:01\n",
      "     ---------------------------------------  10.7/10.7 MB 4.9 MB/s eta 0:00:01\n",
      "     ---------------------------------------- 10.7/10.7 MB 4.5 MB/s eta 0:00:00\n",
      "Collecting pytz>=2020.1\n",
      "  Downloading pytz-2023.3-py2.py3-none-any.whl (502 kB)\n",
      "     ---------------------------------------- 0.0/502.3 kB ? eta -:--:--\n",
      "     ---------------------------------- --- 460.8/502.3 kB 9.6 MB/s eta 0:00:01\n",
      "     -------------------------------------  501.8/502.3 kB 7.9 MB/s eta 0:00:01\n",
      "     -------------------------------------- 502.3/502.3 kB 4.5 MB/s eta 0:00:00\n",
      "Collecting tzdata>=2022.1\n",
      "  Downloading tzdata-2023.3-py2.py3-none-any.whl (341 kB)\n",
      "     ---------------------------------------- 0.0/341.8 kB ? eta -:--:--\n",
      "     ---------------------------------- --- 307.2/341.8 kB 6.3 MB/s eta 0:00:01\n",
      "     -------------------------------------  337.9/341.8 kB 5.2 MB/s eta 0:00:01\n",
      "     -------------------------------------- 341.8/341.8 kB 2.7 MB/s eta 0:00:00\n",
      "Requirement already satisfied: python-dateutil>=2.8.2 in c:\\users\\administrador\\appdata\\local\\programs\\python\\python310\\lib\\site-packages (from pandas) (2.8.2)\n",
      "Collecting numpy>=1.21.0\n",
      "  Downloading numpy-1.25.1-cp310-cp310-win_amd64.whl (15.0 MB)\n",
      "     ---------------------------------------- 0.0/15.0 MB ? eta -:--:--\n",
      "      --------------------------------------- 0.4/15.0 MB 7.4 MB/s eta 0:00:02\n",
      "     -- ------------------------------------- 1.0/15.0 MB 8.8 MB/s eta 0:00:02\n",
      "     ---- ----------------------------------- 1.5/15.0 MB 9.7 MB/s eta 0:00:02\n",
      "     ----- ---------------------------------- 1.9/15.0 MB 9.3 MB/s eta 0:00:02\n",
      "     ------ --------------------------------- 2.3/15.0 MB 9.3 MB/s eta 0:00:02\n",
      "     ------- -------------------------------- 2.9/15.0 MB 9.7 MB/s eta 0:00:02\n",
      "     --------- ------------------------------ 3.5/15.0 MB 10.1 MB/s eta 0:00:02\n",
      "     ---------- ----------------------------- 4.1/15.0 MB 10.5 MB/s eta 0:00:02\n",
      "     ------------ --------------------------- 4.5/15.0 MB 10.3 MB/s eta 0:00:02\n",
      "     ------------- -------------------------- 4.9/15.0 MB 10.1 MB/s eta 0:00:01\n",
      "     -------------- ------------------------- 5.4/15.0 MB 10.1 MB/s eta 0:00:01\n",
      "     --------------- ------------------------ 5.9/15.0 MB 10.3 MB/s eta 0:00:01\n",
      "     ----------------- ---------------------- 6.6/15.0 MB 10.6 MB/s eta 0:00:01\n",
      "     ------------------- -------------------- 7.3/15.0 MB 10.9 MB/s eta 0:00:01\n",
      "     --------------------- ------------------ 7.9/15.0 MB 11.0 MB/s eta 0:00:01\n",
      "     ---------------------- ----------------- 8.6/15.0 MB 11.1 MB/s eta 0:00:01\n",
      "     ----------------------- ---------------- 9.0/15.0 MB 11.0 MB/s eta 0:00:01\n",
      "     ------------------------ --------------- 9.4/15.0 MB 10.9 MB/s eta 0:00:01\n",
      "     ------------------------- -------------- 9.6/15.0 MB 10.6 MB/s eta 0:00:01\n",
      "     ------------------------- ------------- 10.0/15.0 MB 10.5 MB/s eta 0:00:01\n",
      "     --------------------------- ----------- 10.5/15.0 MB 10.6 MB/s eta 0:00:01\n",
      "     ---------------------------- ---------- 11.0/15.0 MB 10.6 MB/s eta 0:00:01\n",
      "     ------------------------------ -------- 11.6/15.0 MB 10.7 MB/s eta 0:00:01\n",
      "     -------------------------------- ------ 12.3/15.0 MB 11.1 MB/s eta 0:00:01\n",
      "     ---------------------------------- ---- 13.1/15.0 MB 11.5 MB/s eta 0:00:01\n",
      "     ------------------------------------ -- 13.9/15.0 MB 11.7 MB/s eta 0:00:01\n",
      "     --------------------------------------  14.8/15.0 MB 12.1 MB/s eta 0:00:01\n",
      "     --------------------------------------  15.0/15.0 MB 12.4 MB/s eta 0:00:01\n",
      "     --------------------------------------  15.0/15.0 MB 12.4 MB/s eta 0:00:01\n",
      "     --------------------------------------  15.0/15.0 MB 12.4 MB/s eta 0:00:01\n",
      "     --------------------------------------  15.0/15.0 MB 12.4 MB/s eta 0:00:01\n",
      "     --------------------------------------  15.0/15.0 MB 12.4 MB/s eta 0:00:01\n",
      "     ---------------------------------------- 15.0/15.0 MB 9.6 MB/s eta 0:00:00\n",
      "Requirement already satisfied: six>=1.5 in c:\\users\\administrador\\appdata\\local\\programs\\python\\python310\\lib\\site-packages (from python-dateutil>=2.8.2->pandas) (1.16.0)\n",
      "Installing collected packages: pytz, tzdata, numpy, pandas\n",
      "Successfully installed numpy-1.25.1 pandas-2.0.3 pytz-2023.3 tzdata-2023.3\n"
     ]
    },
    {
     "name": "stderr",
     "output_type": "stream",
     "text": [
      "  WARNING: The script f2py.exe is installed in 'c:\\Users\\Administrador\\AppData\\Local\\Programs\\Python\\Python310\\Scripts' which is not on PATH.\n",
      "  Consider adding this directory to PATH or, if you prefer to suppress this warning, use --no-warn-script-location.\n",
      "\n",
      "[notice] A new release of pip is available: 23.0.1 -> 23.2.1\n",
      "[notice] To update, run: python.exe -m pip install --upgrade pip\n"
     ]
    }
   ],
   "source": [
    "import finnhub\n",
    "finnhub_client = finnhub.Client(api_key=token)"
   ]
  },
  {
   "cell_type": "code",
   "execution_count": 9,
   "metadata": {},
   "outputs": [
    {
     "name": "stdout",
     "output_type": "stream",
     "text": [
      "{'c': [80.4625, 80.835, 81.28, 80.58, 82.875, 83.365, 85.9975, 88.21, 83.975], 'h': [80.5875, 80.86, 81.55, 81.405, 82.9375, 83.4, 86.4025, 88.6925, 87.765], 'l': [79.3025, 79.7325, 80.575, 80.195, 80.8075, 81.83, 83.0025, 86.5225, 83.87], 'o': [79.4375, 80.18625, 81.165, 81.0975, 80.8375, 82.5625, 83.035, 86.975, 87.3275], 's': 'ok', 't': [1590969600, 1591056000, 1591142400, 1591228800, 1591315200, 1591574400, 1591660800, 1591747200, 1591833600], 'v': [81018612, 87642816, 104491216, 87560364, 137250200, 95654536, 147712364, 166651752, 201662452]}\n",
      "         c        h        l         o   s           t          v\n",
      "0  80.4625  80.5875  79.3025  79.43750  ok  1590969600   81018612\n",
      "1  80.8350  80.8600  79.7325  80.18625  ok  1591056000   87642816\n",
      "2  81.2800  81.5500  80.5750  81.16500  ok  1591142400  104491216\n",
      "3  80.5800  81.4050  80.1950  81.09750  ok  1591228800   87560364\n",
      "4  82.8750  82.9375  80.8075  80.83750  ok  1591315200  137250200\n",
      "5  83.3650  83.4000  81.8300  82.56250  ok  1591574400   95654536\n",
      "6  85.9975  86.4025  83.0025  83.03500  ok  1591660800  147712364\n",
      "7  88.2100  88.6925  86.5225  86.97500  ok  1591747200  166651752\n",
      "8  83.9750  87.7650  83.8700  87.32750  ok  1591833600  201662452\n"
     ]
    },
    {
     "ename": "FinnhubAPIException",
     "evalue": "FinnhubAPIException(status_code: 403): You don't have access to this resource.",
     "output_type": "error",
     "traceback": [
      "\u001b[1;31m---------------------------------------------------------------------------\u001b[0m",
      "\u001b[1;31mFinnhubAPIException\u001b[0m                       Traceback (most recent call last)",
      "Cell \u001b[1;32mIn[9], line 8\u001b[0m\n\u001b[0;32m      5\u001b[0m \u001b[38;5;28mprint\u001b[39m(pd\u001b[38;5;241m.\u001b[39mDataFrame(res))\n\u001b[0;32m      7\u001b[0m \u001b[38;5;66;03m# Aggregate Indicators\u001b[39;00m\n\u001b[1;32m----> 8\u001b[0m \u001b[38;5;28mprint\u001b[39m(\u001b[43mfinnhub_client\u001b[49m\u001b[38;5;241;43m.\u001b[39;49m\u001b[43maggregate_indicator\u001b[49m\u001b[43m(\u001b[49m\u001b[38;5;124;43m'\u001b[39;49m\u001b[38;5;124;43mAAPL\u001b[39;49m\u001b[38;5;124;43m'\u001b[39;49m\u001b[43m,\u001b[49m\u001b[43m \u001b[49m\u001b[38;5;124;43m'\u001b[39;49m\u001b[38;5;124;43mD\u001b[39;49m\u001b[38;5;124;43m'\u001b[39;49m\u001b[43m)\u001b[49m)\n\u001b[0;32m     10\u001b[0m \u001b[38;5;66;03m# Basic financials\u001b[39;00m\n\u001b[0;32m     11\u001b[0m \u001b[38;5;28mprint\u001b[39m(finnhub_client\u001b[38;5;241m.\u001b[39mcompany_basic_financials(\u001b[38;5;124m'\u001b[39m\u001b[38;5;124mAAPL\u001b[39m\u001b[38;5;124m'\u001b[39m, \u001b[38;5;124m'\u001b[39m\u001b[38;5;124mall\u001b[39m\u001b[38;5;124m'\u001b[39m))\n",
      "File \u001b[1;32mc:\\Users\\Administrador\\AppData\\Local\\Programs\\Python\\Python310\\lib\\site-packages\\finnhub\\client.py:91\u001b[0m, in \u001b[0;36mClient.aggregate_indicator\u001b[1;34m(self, symbol, resolution)\u001b[0m\n\u001b[0;32m     90\u001b[0m \u001b[39mdef\u001b[39;00m \u001b[39maggregate_indicator\u001b[39m(\u001b[39mself\u001b[39m, symbol, resolution):\n\u001b[1;32m---> 91\u001b[0m     \u001b[39mreturn\u001b[39;00m \u001b[39mself\u001b[39;49m\u001b[39m.\u001b[39;49m_get(\u001b[39m\"\u001b[39;49m\u001b[39m/scan/technical-indicator\u001b[39;49m\u001b[39m\"\u001b[39;49m, params\u001b[39m=\u001b[39;49m{\n\u001b[0;32m     92\u001b[0m         \u001b[39m\"\u001b[39;49m\u001b[39msymbol\u001b[39;49m\u001b[39m\"\u001b[39;49m: symbol,\n\u001b[0;32m     93\u001b[0m         \u001b[39m\"\u001b[39;49m\u001b[39mresolution\u001b[39;49m\u001b[39m\"\u001b[39;49m: resolution,\n\u001b[0;32m     94\u001b[0m     })\n",
      "File \u001b[1;32mc:\\Users\\Administrador\\AppData\\Local\\Programs\\Python\\Python310\\lib\\site-packages\\finnhub\\client.py:71\u001b[0m, in \u001b[0;36mClient._get\u001b[1;34m(self, path, **kwargs)\u001b[0m\n\u001b[0;32m     70\u001b[0m \u001b[39mdef\u001b[39;00m \u001b[39m_get\u001b[39m(\u001b[39mself\u001b[39m, path, \u001b[39m*\u001b[39m\u001b[39m*\u001b[39mkwargs):\n\u001b[1;32m---> 71\u001b[0m     \u001b[39mreturn\u001b[39;00m \u001b[39mself\u001b[39m\u001b[39m.\u001b[39m_request(\u001b[39m\"\u001b[39m\u001b[39mget\u001b[39m\u001b[39m\"\u001b[39m, path, \u001b[39m*\u001b[39m\u001b[39m*\u001b[39mkwargs)\n",
      "File \u001b[1;32mc:\\Users\\Administrador\\AppData\\Local\\Programs\\Python\\Python310\\lib\\site-packages\\finnhub\\client.py:41\u001b[0m, in \u001b[0;36mClient._request\u001b[1;34m(self, method, path, **kwargs)\u001b[0m\n\u001b[0;32m     38\u001b[0m kwargs[\u001b[39m\"\u001b[39m\u001b[39mparams\u001b[39m\u001b[39m\"\u001b[39m] \u001b[39m=\u001b[39m \u001b[39mself\u001b[39m\u001b[39m.\u001b[39m_format_params(kwargs\u001b[39m.\u001b[39mget(\u001b[39m\"\u001b[39m\u001b[39mparams\u001b[39m\u001b[39m\"\u001b[39m, {}))\n\u001b[0;32m     40\u001b[0m response \u001b[39m=\u001b[39m \u001b[39mgetattr\u001b[39m(\u001b[39mself\u001b[39m\u001b[39m.\u001b[39m_session, method)(uri, \u001b[39m*\u001b[39m\u001b[39m*\u001b[39mkwargs)\n\u001b[1;32m---> 41\u001b[0m \u001b[39mreturn\u001b[39;00m \u001b[39mself\u001b[39;49m\u001b[39m.\u001b[39;49m_handle_response(response)\n",
      "File \u001b[1;32mc:\\Users\\Administrador\\AppData\\Local\\Programs\\Python\\Python310\\lib\\site-packages\\finnhub\\client.py:46\u001b[0m, in \u001b[0;36mClient._handle_response\u001b[1;34m(response)\u001b[0m\n\u001b[0;32m     43\u001b[0m \u001b[39m@staticmethod\u001b[39m\n\u001b[0;32m     44\u001b[0m \u001b[39mdef\u001b[39;00m \u001b[39m_handle_response\u001b[39m(response):\n\u001b[0;32m     45\u001b[0m     \u001b[39mif\u001b[39;00m \u001b[39mnot\u001b[39;00m response\u001b[39m.\u001b[39mok:\n\u001b[1;32m---> 46\u001b[0m         \u001b[39mraise\u001b[39;00m FinnhubAPIException(response)\n\u001b[0;32m     48\u001b[0m     \u001b[39mtry\u001b[39;00m:\n\u001b[0;32m     49\u001b[0m         content_type \u001b[39m=\u001b[39m response\u001b[39m.\u001b[39mheaders\u001b[39m.\u001b[39mget(\u001b[39m'\u001b[39m\u001b[39mContent-Type\u001b[39m\u001b[39m'\u001b[39m, \u001b[39m'\u001b[39m\u001b[39m'\u001b[39m)\n",
      "\u001b[1;31mFinnhubAPIException\u001b[0m: FinnhubAPIException(status_code: 403): You don't have access to this resource."
     ]
    }
   ],
   "source": [
    "# Stock candles\n",
    "res = finnhub_client.stock_candles('AAPL', 'D', 1590988249, 1591852249)\n",
    "print(res)\n",
    "\n",
    "print(pd.DataFrame(res))\n",
    "\n",
    "# Aggregate Indicators\n",
    "print(finnhub_client.aggregate_indicator('AAPL', 'D'))\n",
    "\n",
    "# Basic financials\n",
    "print(finnhub_client.company_basic_financials('AAPL', 'all'))\n",
    "\n",
    "# Earnings surprises\n",
    "print(finnhub_client.company_earnings('TSLA', limit=5))\n"
   ]
  },
  {
   "cell_type": "code",
   "execution_count": 10,
   "metadata": {},
   "outputs": [],
   "source": [
    "news_sent = getSentiment('AAPL')"
   ]
  },
  {
   "cell_type": "code",
   "execution_count": 11,
   "metadata": {},
   "outputs": [
    {
     "data": {
      "text/plain": [
       "{'error': \"You don't have access to this resource.\"}"
      ]
     },
     "execution_count": 11,
     "metadata": {},
     "output_type": "execute_result"
    }
   ],
   "source": [
    "news_sent"
   ]
  },
  {
   "cell_type": "code",
   "execution_count": null,
   "metadata": {},
   "outputs": [],
   "source": []
  }
 ],
 "metadata": {
  "kernelspec": {
   "display_name": "Python 3.10.11 64-bit",
   "language": "python",
   "name": "python3"
  },
  "language_info": {
   "codemirror_mode": {
    "name": "ipython",
    "version": 3
   },
   "file_extension": ".py",
   "mimetype": "text/x-python",
   "name": "python",
   "nbconvert_exporter": "python",
   "pygments_lexer": "ipython3",
   "version": "3.10.11"
  },
  "orig_nbformat": 4,
  "vscode": {
   "interpreter": {
    "hash": "d7546de2d5b66e6bb4051f93f462cf1f21acc5c70ac66712f7c9fa60f386dd80"
   }
  }
 },
 "nbformat": 4,
 "nbformat_minor": 2
}
