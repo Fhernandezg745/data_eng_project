{
 "cells": [
  {
   "cell_type": "code",
   "execution_count": 1,
   "metadata": {},
   "outputs": [],
   "source": [
    "import os\n",
    "import requests\n",
    "import json\n",
    "from datetime import datetime\n",
    "from typing import Union, List\n",
    "import pandas as pd\n",
    "from dotenv import load_dotenv\n"
   ]
  },
  {
   "cell_type": "code",
   "execution_count": 2,
   "metadata": {},
   "outputs": [],
   "source": [
    "class APIRequestError(Exception):\n",
    "    def __init__(self, status_code, message, function_name):\n",
    "        self.status_code = status_code\n",
    "        self.message = message\n",
    "        self.function_name = function_name\n",
    "        super().__init__(f\"HTTP error {self.status_code} occurred in {self.function_name}: {self.message}\")\n",
    "\n"
   ]
  },
  {
   "cell_type": "code",
   "execution_count": null,
   "metadata": {},
   "outputs": [],
   "source": []
  },
  {
   "cell_type": "code",
   "execution_count": 23,
   "metadata": {},
   "outputs": [],
   "source": [
    "#Primero: funcion para traer serie intradiaria en 60 min del stock que necesito\n",
    "\n",
    "def intraday_stock_serie(symbol:str, interval:str):   \n",
    "    function = 'TIME_SERIES_INTRADAY'\n",
    "    adjusted=True\n",
    "    extended_hours=False\n",
    "    size = 'compact'\n",
    "    parameters_market_data = {'function':function, 'symbol':symbol, 'interval':interval, 'extended_hours':extended_hours,\n",
    "            'adjusted':adjusted,'outputsize':size,'apikey':token }\n",
    "    try:\n",
    "        r = requests.get(base_url, params=parameters_market_data)\n",
    "        r.raise_for_status()  \n",
    "        data = r.json()\n",
    "        if \"Error Message\" in data:\n",
    "            error_message = data[\"Error Message\"]\n",
    "            raise APIRequestError(r.status_code, error_message, \"intraday_stock_serie\")\n",
    "        else:\n",
    "            data = data[f'Time Series ({interval})']\n",
    "            return data\n",
    "    except requests.exceptions.HTTPError as http_err:\n",
    "        raise APIRequestError(http_err.response.status_code, http_err, \"intraday_stock_serie\")\n",
    "    except Exception as err:\n",
    "        raise APIRequestError(500, str(err), \"intraday_stock_serie\")"
   ]
  },
  {
   "cell_type": "code",
   "execution_count": 11,
   "metadata": {},
   "outputs": [],
   "source": [
    "#Segundo: funcion para traer noticias relacionadas a ese stock\n",
    "\n",
    "def getSentiment(\n",
    "    symbol: str,\n",
    "    topics: Union[str, List[str]]\n",
    "):\n",
    "    \n",
    "    # Convierto topics en un solo string si vino en una lista de strings\n",
    "    if isinstance(topics, list):\n",
    "        topics = ','.join(topics)\n",
    "    \n",
    "    parameters_news_sentiment_data = {\n",
    "        'function': 'NEWS_SENTIMENT',\n",
    "        'tickers': symbol,\n",
    "        'topics': topics,\n",
    "        'apikey': token\n",
    "    }\n",
    "    \n",
    "    try:\n",
    "        r = requests.get(base_url, params=parameters_news_sentiment_data)\n",
    "        r.raise_for_status() \n",
    "        data = r.json()\n",
    "        data_feed = data['feed']\n",
    "        data_sentiment = []\n",
    "        for i in data_feed:\n",
    "            for item in i['ticker_sentiment']:\n",
    "                if item['ticker'] == symbol:\n",
    "                    # Formateo time_published \n",
    "                    time_published = datetime.strptime(i['time_published'], '%Y%m%dT%H%M%S')\n",
    "                    formatted_time_published = time_published.strftime('%Y-%m-%d %H:%M')\n",
    "                    data_sentiment.append({\n",
    "                        'ticker': item['ticker'],\n",
    "                        'time_published': formatted_time_published,\n",
    "                        'source_domain': i['source_domain'],\n",
    "                        'relevance_score': item['relevance_score'],\n",
    "                        'ticker_sentiment_label': item['ticker_sentiment_label']\n",
    "                    })\n",
    "        return data_sentiment\n",
    "    except requests.exceptions.HTTPError as http_err:\n",
    "        raise APIRequestError(http_err.response.status_code, http_err, \"getSentiment\")\n",
    "    except Exception as err:\n",
    "        raise APIRequestError(500, str(err), \"getSentiment\")\n",
    "\n",
    "\n"
   ]
  },
  {
   "cell_type": "code",
   "execution_count": 12,
   "metadata": {},
   "outputs": [],
   "source": [
    "# 3 Unifico las funciones de market data y news data en una sola \n",
    "def get_stock_data(tickers, interval, topics):\n",
    "    stock_data_frames = {}\n",
    "    \n",
    "    for ticker in tickers:\n",
    "        try:\n",
    "            # Traigo intraday stock data\n",
    "            intraday_data = intraday_stock_serie(ticker, interval)\n",
    "            \n",
    "            # Traigo sentiment data\n",
    "            sentiment_data = getSentiment(ticker, topics)\n",
    "            \n",
    "            # Convierto en pandas dataframe\n",
    "            df_intraday = pd.DataFrame(intraday_data).transpose()\n",
    "            df_intraday.index = pd.to_datetime(df_intraday.index)\n",
    "            df_sentiment = pd.DataFrame(sentiment_data)\n",
    "            \n",
    "            # Guardo los df en diccionarios\n",
    "            stock_data_frames[ticker] = {\n",
    "                'intraday_data': df_intraday,\n",
    "                'sentiment_data': df_sentiment\n",
    "            }\n",
    "        except APIRequestError as api_err:\n",
    "            print(f\"{api_err.function_name}: API Request Error - Status Code {api_err.status_code}: {api_err.message}\")\n",
    "            # You can handle the error based on the status code here.\n",
    "            # For example, you may choose to skip the stock if the error is not recoverable.\n",
    "            continue\n",
    "    return stock_data_frames"
   ]
  },
  {
   "cell_type": "code",
   "execution_count": 13,
   "metadata": {},
   "outputs": [],
   "source": [
    "#Advantage api configuration\n",
    "base_url = os.environ.get('BASE_URL')\n",
    "token = os.environ.get('API_TOKEN')\n",
    "tickers = ['APL','IBM']\n",
    "interval = '60min'\n",
    "topics = 'technology, manufacturing, financial_markets'\n"
   ]
  },
  {
   "cell_type": "code",
   "execution_count": 14,
   "metadata": {},
   "outputs": [
    {
     "name": "stdout",
     "output_type": "stream",
     "text": [
      "intraday_stock_serie: API Request Error - Status Code 500: 'Time Series (60min)'\n",
      "intraday_stock_serie: API Request Error - Status Code 500: 'Time Series (60min)'\n"
     ]
    }
   ],
   "source": [
    "data_frames_by_ticker = get_stock_data(tickers, interval, topics)"
   ]
  },
  {
   "cell_type": "code",
   "execution_count": 15,
   "metadata": {},
   "outputs": [
    {
     "data": {
      "text/plain": [
       "<Response [200]>"
      ]
     },
     "execution_count": 15,
     "metadata": {},
     "output_type": "execute_result"
    }
   ],
   "source": [
    "parameters_market_data = {'function':'TIME_SERIES_INTRADAY', 'symbol':'Aasdr', 'interval':interval, \n",
    "           'outputsize':'compact','apikey':token }\n",
    "r = requests.get(base_url, params=parameters_market_data)\n",
    "r.raise_for_status() \n",
    "r "
   ]
  },
  {
   "cell_type": "code",
   "execution_count": 24,
   "metadata": {},
   "outputs": [
    {
     "ename": "APIRequestError",
     "evalue": "HTTP error 500 occurred in intraday_stock_serie: HTTP error 200 occurred in intraday_stock_serie: Invalid API call. Please retry or visit the documentation (https://www.alphavantage.co/documentation/) for TIME_SERIES_INTRADAY.",
     "output_type": "error",
     "traceback": [
      "\u001b[1;31m---------------------------------------------------------------------------\u001b[0m",
      "\u001b[1;31mAPIRequestError\u001b[0m                           Traceback (most recent call last)",
      "Cell \u001b[1;32mIn[23], line 16\u001b[0m, in \u001b[0;36mintraday_stock_serie\u001b[1;34m(symbol, interval)\u001b[0m\n\u001b[0;32m     15\u001b[0m     error_message \u001b[38;5;241m=\u001b[39m data[\u001b[38;5;124m\"\u001b[39m\u001b[38;5;124mError Message\u001b[39m\u001b[38;5;124m\"\u001b[39m]\n\u001b[1;32m---> 16\u001b[0m     \u001b[38;5;28;01mraise\u001b[39;00m APIRequestError(r\u001b[38;5;241m.\u001b[39mstatus_code, error_message, \u001b[38;5;124m\"\u001b[39m\u001b[38;5;124mintraday_stock_serie\u001b[39m\u001b[38;5;124m\"\u001b[39m)\n\u001b[0;32m     17\u001b[0m \u001b[38;5;28;01melse\u001b[39;00m:\n",
      "\u001b[1;31mAPIRequestError\u001b[0m: HTTP error 200 occurred in intraday_stock_serie: Invalid API call. Please retry or visit the documentation (https://www.alphavantage.co/documentation/) for TIME_SERIES_INTRADAY.",
      "\nDuring handling of the above exception, another exception occurred:\n",
      "\u001b[1;31mAPIRequestError\u001b[0m                           Traceback (most recent call last)",
      "Cell \u001b[1;32mIn[24], line 1\u001b[0m\n\u001b[1;32m----> 1\u001b[0m \u001b[43mintraday_stock_serie\u001b[49m\u001b[43m(\u001b[49m\u001b[38;5;124;43m'\u001b[39;49m\u001b[38;5;124;43mIBMS\u001b[39;49m\u001b[38;5;124;43m'\u001b[39;49m\u001b[43m,\u001b[49m\u001b[38;5;124;43m'\u001b[39;49m\u001b[38;5;124;43m60min\u001b[39;49m\u001b[38;5;124;43m'\u001b[39;49m\u001b[43m)\u001b[49m\n",
      "Cell \u001b[1;32mIn[23], line 23\u001b[0m, in \u001b[0;36mintraday_stock_serie\u001b[1;34m(symbol, interval)\u001b[0m\n\u001b[0;32m     21\u001b[0m     \u001b[38;5;28;01mraise\u001b[39;00m APIRequestError(http_err\u001b[38;5;241m.\u001b[39mresponse\u001b[38;5;241m.\u001b[39mstatus_code, http_err, \u001b[38;5;124m\"\u001b[39m\u001b[38;5;124mintraday_stock_serie\u001b[39m\u001b[38;5;124m\"\u001b[39m)\n\u001b[0;32m     22\u001b[0m \u001b[38;5;28;01mexcept\u001b[39;00m \u001b[38;5;167;01mException\u001b[39;00m \u001b[38;5;28;01mas\u001b[39;00m err:\n\u001b[1;32m---> 23\u001b[0m     \u001b[38;5;28;01mraise\u001b[39;00m APIRequestError(\u001b[38;5;241m500\u001b[39m, \u001b[38;5;28mstr\u001b[39m(err), \u001b[38;5;124m\"\u001b[39m\u001b[38;5;124mintraday_stock_serie\u001b[39m\u001b[38;5;124m\"\u001b[39m)\n",
      "\u001b[1;31mAPIRequestError\u001b[0m: HTTP error 500 occurred in intraday_stock_serie: HTTP error 200 occurred in intraday_stock_serie: Invalid API call. Please retry or visit the documentation (https://www.alphavantage.co/documentation/) for TIME_SERIES_INTRADAY."
     ]
    }
   ],
   "source": [
    "intraday_stock_serie('IBMS','60min')"
   ]
  },
  {
   "cell_type": "code",
   "execution_count": 19,
   "metadata": {},
   "outputs": [
    {
     "name": "stdout",
     "output_type": "stream",
     "text": [
      "{'Error Message': 'Invalid API call. Please retry or visit the documentation (https://www.alphavantage.co/documentation/) for TIME_SERIES_INTRADAY.'}\n"
     ]
    }
   ],
   "source": [
    "import requests\n",
    "url = 'https://www.alphavantage.co/query?function=TIME_SERIES_INTRADAY&symbol=IBMS&interval=5min&apikey=OYDV8S8KFCSH3B35'\n",
    "r = requests.get(url)\n",
    "data = r.json()\n",
    "\n",
    "print(data)"
   ]
  },
  {
   "cell_type": "code",
   "execution_count": 20,
   "metadata": {},
   "outputs": [],
   "source": [
    "r = requests.get(url, params=parameters_market_data)\n"
   ]
  },
  {
   "cell_type": "code",
   "execution_count": 22,
   "metadata": {},
   "outputs": [
    {
     "data": {
      "text/plain": [
       "{'Error Message': 'Invalid API call. Please retry or visit the documentation (https://www.alphavantage.co/documentation/) for TIME_SERIES_INTRADAY.'}"
      ]
     },
     "execution_count": 22,
     "metadata": {},
     "output_type": "execute_result"
    }
   ],
   "source": [
    "r.json()"
   ]
  },
  {
   "cell_type": "code",
   "execution_count": null,
   "metadata": {},
   "outputs": [],
   "source": []
  }
 ],
 "metadata": {
  "kernelspec": {
   "display_name": "Python 3.10.11 64-bit",
   "language": "python",
   "name": "python3"
  },
  "language_info": {
   "codemirror_mode": {
    "name": "ipython",
    "version": 3
   },
   "file_extension": ".py",
   "mimetype": "text/x-python",
   "name": "python",
   "nbconvert_exporter": "python",
   "pygments_lexer": "ipython3",
   "version": "3.10.11"
  },
  "orig_nbformat": 4,
  "vscode": {
   "interpreter": {
    "hash": "d7546de2d5b66e6bb4051f93f462cf1f21acc5c70ac66712f7c9fa60f386dd80"
   }
  }
 },
 "nbformat": 4,
 "nbformat_minor": 2
}
