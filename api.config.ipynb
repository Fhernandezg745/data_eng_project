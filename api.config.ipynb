{
 "cells": [
  {
   "cell_type": "code",
   "execution_count": 1,
   "metadata": {},
   "outputs": [
    {
     "data": {
      "text/plain": [
       "True"
      ]
     },
     "execution_count": 1,
     "metadata": {},
     "output_type": "execute_result"
    }
   ],
   "source": [
    "import os\n",
    "import requests\n",
    "import json\n",
    "from datetime import datetime\n",
    "from typing import Union, List\n",
    "import pandas as pd\n",
    "from dotenv import load_dotenv\n",
    "import sqlalchemy as sa\n",
    "load_dotenv()\n"
   ]
  },
  {
   "cell_type": "code",
   "execution_count": 2,
   "metadata": {},
   "outputs": [],
   "source": [
    "class APIRequestError(Exception):\n",
    "    def __init__(self, status_code, message, function_name):\n",
    "        self.status_code = status_code\n",
    "        self.message = message\n",
    "        self.function_name = function_name\n",
    "        super().__init__(f\"HTTP error {self.status_code} occurred in {self.function_name}: {self.message}\")\n"
   ]
  },
  {
   "cell_type": "code",
   "execution_count": 3,
   "metadata": {},
   "outputs": [],
   "source": [
    "#Primero: funcion para traer serie intradiaria en 60 min del stock que necesito\n",
    "\n",
    "def intraday_stock_serie(symbol:str, interval:str):   \n",
    "    endpoint = 'TIME_SERIES_INTRADAY'\n",
    "    adjusted=True\n",
    "    extended_hours=False\n",
    "    size = 'compact'\n",
    "    parameters_market_data = {'function':endpoint, 'symbol':symbol, 'interval':interval, 'extended_hours':extended_hours,\n",
    "            'adjusted':adjusted,'outputsize':size,'apikey':token }\n",
    "    try:\n",
    "        r = requests.get(base_url, params=parameters_market_data)\n",
    "        r.raise_for_status()  \n",
    "        data = r.json()\n",
    "        if \"Error Message\" in data:\n",
    "            error_message = data[\"Error Message\"]\n",
    "            raise APIRequestError(r.status_code, error_message, \"intraday_stock_serie\")\n",
    "        else:\n",
    "            data = data[f'Time Series ({interval})']\n",
    "            return data\n",
    "    except requests.exceptions.HTTPError as http_err:\n",
    "        raise APIRequestError(http_err.response.status_code, http_err, \"intraday_stock_serie\")\n",
    "    except Exception as err:\n",
    "        raise APIRequestError(500, str(err), \"intraday_stock_serie\")"
   ]
  },
  {
   "cell_type": "code",
   "execution_count": 4,
   "metadata": {},
   "outputs": [],
   "source": [
    "#Segundo: funcion para traer noticias relacionadas a ese stock\n",
    "\n",
    "def getSentiment(\n",
    "    symbol: str,\n",
    "    topics: Union[str, List[str]]\n",
    "):\n",
    "    \n",
    "    # Convierto topics en un solo string si vino en una lista de strings\n",
    "    if isinstance(topics, list):\n",
    "        topics = ','.join(topics)\n",
    "    \n",
    "    parameters_news_sentiment_data = {\n",
    "        'function': 'NEWS_SENTIMENT',\n",
    "        'tickers': symbol,\n",
    "        'topics': topics,\n",
    "        'apikey': token\n",
    "    }\n",
    "    \n",
    "    try:\n",
    "        r = requests.get(base_url, params=parameters_news_sentiment_data)\n",
    "        r.raise_for_status() \n",
    "        data = r.json()\n",
    "        data_feed = data['feed']\n",
    "        data_sentiment = []\n",
    "        for i in data_feed:\n",
    "            for item in i['ticker_sentiment']:\n",
    "                if item['ticker'] == symbol:\n",
    "                    # Formateo time_published \n",
    "                    time_published = datetime.strptime(i['time_published'], '%Y%m%dT%H%M%S')\n",
    "                    formatted_time_published = time_published.strftime('%Y-%m-%d %H:%M')\n",
    "                    data_sentiment.append({\n",
    "                        'ticker': item['ticker'],\n",
    "                        'time_published': formatted_time_published,\n",
    "                        'source_domain': i['source_domain'],\n",
    "                        'relevance_score': item['relevance_score'],\n",
    "                        'ticker_sentiment_label': item['ticker_sentiment_label']\n",
    "                    })\n",
    "        return data_sentiment\n",
    "    except requests.exceptions.HTTPError as http_err:\n",
    "        raise APIRequestError(http_err.response.status_code, http_err, \"getSentiment\")\n",
    "    except Exception as err:\n",
    "        raise APIRequestError(500, str(err), \"getSentiment\")\n",
    "\n",
    "\n"
   ]
  },
  {
   "cell_type": "code",
   "execution_count": 19,
   "metadata": {},
   "outputs": [],
   "source": [
    "# 3 Unifico las funciones de market data y news data en una sola \n",
    "def get_stock_data(tickers, interval, topics):\n",
    "    successful_rows = {}\n",
    "    # Get database connection parameters\n",
    "    DB_NAME = os.environ.get('DB_NAME')\n",
    "    DB_USER = os.environ.get('DB_USER')\n",
    "    DB_PWD = os.environ.get('DB_PWD')\n",
    "    DB_PORT = os.environ.get('DB_PORT')\n",
    "    DB_HOST = os.environ.get('DB_HOST')\n",
    "    dbschema = f'{DB_USER}'\n",
    "\n",
    "    # Create the connection engine outside the loop\n",
    "    conn = sa.create_engine(\n",
    "        f\"postgresql://{DB_USER}:{DB_PWD}@{DB_HOST}:{DB_PORT}/{DB_NAME}\",\n",
    "        connect_args={'options': f'-csearch_path={dbschema}'}\n",
    "    )\n",
    "    \n",
    "    for ticker in tickers:\n",
    "        try:\n",
    "            # Traigo intraday stock data\n",
    "            intraday_data = intraday_stock_serie(ticker, interval)\n",
    "            \n",
    "            # Traigo sentiment data\n",
    "            sentiment_data = getSentiment(ticker, topics)\n",
    "            \n",
    "            # Convierto en pandas dataframe los precios de intraday stock\n",
    "            df_intraday = pd.DataFrame.from_dict(intraday_data, orient='index')\n",
    "            df_intraday.columns = ['open_price', 'high_price', 'low_price', 'close_price', 'volume']\n",
    "            df_intraday.reset_index(inplace=True)\n",
    "            df_intraday.rename(columns={'index': 'date'}, inplace=True)\n",
    "            df_intraday['date'] = pd.to_datetime(df_intraday['date'])\n",
    "            \n",
    "            intraday_table_name = f'stock_intraday_prices_{ticker}'\n",
    "            \n",
    "            #Creo tabla de precios en redshift\n",
    "            df_intraday.to_sql(intraday_table_name, conn, index=False, if_exists='replace')\n",
    "            # cantidad de rows de intraday \n",
    "            num_rows_updated_intraday = len(df_intraday)\n",
    "\n",
    "            #Voy con el dataframe de news sentiment\n",
    "            df_sentiment = pd.DataFrame(sentiment_data)\n",
    "            sentiment_table_name = f'stock_sentiment_{ticker}'\n",
    "            \n",
    "            #Creo tabla de sentiment en redshift\n",
    "            df_sentiment.to_sql(sentiment_table_name, conn, index=False, if_exists='replace')\n",
    "            # cantidad de rows de sentiment\n",
    "            num_rows_updated_sentiment = len(df_sentiment)\n",
    "\n",
    "            \n",
    "            successful_rows[ticker] = {\n",
    "                'intraday_data': num_rows_updated_intraday,\n",
    "                'sentiment_data': num_rows_updated_sentiment\n",
    "            }\n",
    "            \n",
    "        except APIRequestError as api_err:\n",
    "            print(f\"{api_err.function_name}: API Request Error - Status Code {api_err.status_code}: {api_err.message}\")\n",
    "            # You can handle the error based on the status code here.\n",
    "            # For example, you may choose to skip the stock if the error is not recoverable.\n",
    "            continue\n",
    "    return successful_rows"
   ]
  },
  {
   "cell_type": "code",
   "execution_count": 21,
   "metadata": {},
   "outputs": [],
   "source": [
    "#Advantage api configuration parameters\n",
    "base_url = os.environ.get('BASE_URL')\n",
    "token = os.environ.get('API_TOKEN')\n",
    "tickers = ['AAPL','IBM']\n",
    "interval = '60min'\n",
    "topics = 'technology, manufacturing, financial_markets'\n"
   ]
  },
  {
   "cell_type": "code",
   "execution_count": 23,
   "metadata": {},
   "outputs": [
    {
     "name": "stderr",
     "output_type": "stream",
     "text": [
      "/Library/Frameworks/Python.framework/Versions/3.10/lib/python3.10/site-packages/pandas/io/sql.py:1660: UserWarning: The provided table name 'stock_intraday_prices_AAPL' is not found exactly as such in the database after writing the table, possibly due to case sensitivity issues. Consider using lower case table names.\n",
      "  warnings.warn(msg, UserWarning)\n",
      "/Library/Frameworks/Python.framework/Versions/3.10/lib/python3.10/site-packages/pandas/io/sql.py:1660: UserWarning: The provided table name 'stock_sentiment_AAPL' is not found exactly as such in the database after writing the table, possibly due to case sensitivity issues. Consider using lower case table names.\n",
      "  warnings.warn(msg, UserWarning)\n",
      "/Library/Frameworks/Python.framework/Versions/3.10/lib/python3.10/site-packages/pandas/io/sql.py:1660: UserWarning: The provided table name 'stock_intraday_prices_IBM' is not found exactly as such in the database after writing the table, possibly due to case sensitivity issues. Consider using lower case table names.\n",
      "  warnings.warn(msg, UserWarning)\n",
      "/Library/Frameworks/Python.framework/Versions/3.10/lib/python3.10/site-packages/pandas/io/sql.py:1660: UserWarning: The provided table name 'stock_sentiment_IBM' is not found exactly as such in the database after writing the table, possibly due to case sensitivity issues. Consider using lower case table names.\n",
      "  warnings.warn(msg, UserWarning)\n"
     ]
    }
   ],
   "source": [
    "data_frames_by_ticker = get_stock_data(tickers, interval, topics)"
   ]
  },
  {
   "cell_type": "code",
   "execution_count": 25,
   "metadata": {},
   "outputs": [
    {
     "data": {
      "text/plain": [
       "{'AAPL': {'intraday_data': 100, 'sentiment_data': 50},\n",
       " 'IBM': {'intraday_data': 100, 'sentiment_data': 50}}"
      ]
     },
     "execution_count": 25,
     "metadata": {},
     "output_type": "execute_result"
    }
   ],
   "source": [
    "data_frames_by_ticker"
   ]
  }
 ],
 "metadata": {
  "kernelspec": {
   "display_name": "Python 3.10.11 64-bit",
   "language": "python",
   "name": "python3"
  },
  "language_info": {
   "codemirror_mode": {
    "name": "ipython",
    "version": 3
   },
   "file_extension": ".py",
   "mimetype": "text/x-python",
   "name": "python",
   "nbconvert_exporter": "python",
   "pygments_lexer": "ipython3",
   "version": "3.10.1"
  },
  "orig_nbformat": 4,
  "vscode": {
   "interpreter": {
    "hash": "d7546de2d5b66e6bb4051f93f462cf1f21acc5c70ac66712f7c9fa60f386dd80"
   }
  }
 },
 "nbformat": 4,
 "nbformat_minor": 2
}
